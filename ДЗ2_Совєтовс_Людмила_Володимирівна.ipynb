{
  "nbformat": 4,
  "nbformat_minor": 0,
  "metadata": {
    "colab": {
      "provenance": [],
      "authorship_tag": "ABX9TyPfNZLqhxATG0uKCLzNKSt4",
      "include_colab_link": true
    },
    "kernelspec": {
      "name": "python3",
      "display_name": "Python 3"
    },
    "language_info": {
      "name": "python"
    }
  },
  "cells": [
    {
      "cell_type": "markdown",
      "metadata": {
        "id": "view-in-github",
        "colab_type": "text"
      },
      "source": [
        "<a href=\"https://colab.research.google.com/github/liudmylasovetovs/goit-algo-hw-02/blob/main/%D0%94%D0%972_%D0%A1%D0%BE%D0%B2%D1%94%D1%82%D0%BE%D0%B2%D1%81_%D0%9B%D1%8E%D0%B4%D0%BC%D0%B8%D0%BB%D0%B0_%D0%92%D0%BE%D0%BB%D0%BE%D0%B4%D0%B8%D0%BC%D0%B8%D1%80%D1%96%D0%B2%D0%BD%D0%B0.ipynb\" target=\"_parent\"><img src=\"https://colab.research.google.com/assets/colab-badge.svg\" alt=\"Open In Colab\"/></a>"
      ]
    },
    {
      "cell_type": "markdown",
      "source": [
        "\n",
        "# **Завдання 1**\n",
        "\n",
        "Потрібно розробити програму, яка імітує приймання й обробку заявок: програма має автоматично генерувати нові заявки (ідентифіковані унікальним номером або іншими даними), додавати їх до черги, а потім послідовно видаляти з черги для \"обробки\", імітуючи таким чином роботу сервісного центру.\n",
        "\n",
        "Ось псевдокод для завдання з використанням черги (Queue з модуля queue в Python) для системи обробки заявок:\n",
        "\n",
        "```\n",
        "import Queue\n",
        "\n",
        "Створити чергу заявок\n",
        "queue = Queue()\n",
        "\n",
        "Функція generate_request():\n",
        "    Створити нову заявку\n",
        "    Додати заявку до черги\n",
        "\n",
        "Функція process_request():\n",
        "    Якщо черга не пуста:\n",
        "        Видалити заявку з черги\n",
        "        Обробити заявку\n",
        "    Інакше:\n",
        "        Вивести повідомлення, що черга пуста\n",
        "\n",
        "Головний цикл програми:\n",
        "    Поки користувач не вийде з програми:\n",
        "        Виконати generate_request() для створення нових заявок\n",
        "        Виконати process_request() для обробки заявок\n",
        "```\n",
        "\n",
        "\n",
        "\n",
        "У цьому псевдокоді використовуються дві основні функції: generate_request(), яка генерує нові заявки та додає їх до черги, та process_request(), яка обробляє заявки, видаляючи їх із черги. Головний цикл програми виконує ці функції, імітуючи постійний потік нових заявок та їх обробку.\n"
      ],
      "metadata": {
        "id": "nKBpu9snOOV8"
      }
    },
    {
      "cell_type": "code",
      "execution_count": null,
      "metadata": {
        "id": "Rm9NhTd4ODh1"
      },
      "outputs": [],
      "source": [
        "import queue\n",
        "import time"
      ]
    },
    {
      "cell_type": "code",
      "source": [
        "# Створити чергу заявок\n",
        "request_queue = queue.Queue()\n",
        "# Лічильник для генерації унікальних номерів заявок\n",
        "request_counter = 0"
      ],
      "metadata": {
        "id": "jXh5XvGUO2Bh"
      },
      "execution_count": null,
      "outputs": []
    },
    {
      "cell_type": "code",
      "source": [
        "# Функція generate_request():\n",
        "def generate_request():\n",
        "    global request_counter\n",
        "    # Збільшити лічильник та створити нову заявку з унікальним номером\n",
        "    request_counter += 1\n",
        "    new_request = f\"Request_{request_counter}\"\n",
        "    # Додати заявку до черги\n",
        "    request_queue.put(new_request)\n",
        "    print(f\"New request added to the queue: {new_request}\")"
      ],
      "metadata": {
        "id": "Yy-nUB4sO2Kq"
      },
      "execution_count": null,
      "outputs": []
    },
    {
      "cell_type": "code",
      "source": [
        "# Функція process_request():\n",
        "def process_request():\n",
        "    # Якщо черга не пуста:\n",
        "    if not request_queue.empty():\n",
        "        # Видалити заявку з черги\n",
        "        processed_request = request_queue.get()\n",
        "        # Обробити заявку\n",
        "        print(f\"Processing request: {processed_request}\")\n",
        "    else:\n",
        "        # Інакше вивести повідомлення, що черга пуста\n",
        "        print(\"Queue is empty, no requests to process.\")"
      ],
      "metadata": {
        "id": "WueAXx1OO2SO"
      },
      "execution_count": null,
      "outputs": []
    },
    {
      "cell_type": "code",
      "source": [
        "# Головний цикл програми:\n",
        "while True:\n",
        "    # Виконати generate_request() для створення нових заявок\n",
        "    generate_request()\n",
        "    # Виконати process_request() для обробки заявок\n",
        "    process_request()\n",
        "    # Затримка для імітації реального часу між заявками\n",
        "    time.sleep(1)\n"
      ],
      "metadata": {
        "id": "DgimZOgBO2ug"
      },
      "execution_count": null,
      "outputs": []
    },
    {
      "cell_type": "markdown",
      "source": [
        "# **Завдання 2**\n",
        "\n",
        "Необхідно розробити функцію, яка приймає рядок як вхідний параметр, додає всі його символи до двосторонньої черги (deque з модуля collections в Python), а потім порівнює символи з обох кінців черги, щоб визначити, чи є рядок паліндромом. Програма повинна правильно враховувати як рядки з парною, так і з непарною кількістю символів, а також бути нечутливою до регістру та пробілів."
      ],
      "metadata": {
        "id": "y3QRxqS_P7uf"
      }
    },
    {
      "cell_type": "code",
      "source": [
        "from collections import deque"
      ],
      "metadata": {
        "id": "TPPOV4LhQCCg"
      },
      "execution_count": null,
      "outputs": []
    },
    {
      "cell_type": "code",
      "source": [
        "def is_palindrome(s):\n",
        "    # Перетворюємо рядок у нижній регістр і видаляємо пробіли\n",
        "    s = s.lower().replace(\" \", \"\").replace(\",\", \"\").replace(\".\", \"\").replace(\"?\", \"\").replace(\"!\", \"\")\n",
        "        # Створюємо двосторонню чергу (deque)\n",
        "    queue = deque(s)\n",
        "\n",
        "    # Порівнюємо символи з обох кінців черги\n",
        "    while len(queue) > 1:\n",
        "        if queue.popleft() != queue.pop():\n",
        "            return False\n",
        "\n",
        "    return True"
      ],
      "metadata": {
        "id": "18tXbGBmQkkC"
      },
      "execution_count": null,
      "outputs": []
    },
    {
      "cell_type": "code",
      "source": [
        "input_string = input(\"Введіть рядок: \")\n",
        "\n",
        "try:\n",
        "  if is_palindrome(input_string):\n",
        "    print(\"Рядок є паліндромом.\")\n",
        "  else:\n",
        "    print(\"Рядок не є паліндромом.\")\n",
        "except Exception as e:\n",
        "  print(f\"Помилка: {e}\")"
      ],
      "metadata": {
        "id": "ARqhdvq6Qled"
      },
      "execution_count": null,
      "outputs": []
    }
  ]
}